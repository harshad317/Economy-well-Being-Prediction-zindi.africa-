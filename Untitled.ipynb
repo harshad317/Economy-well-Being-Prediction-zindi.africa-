{
 "cells": [
  {
   "cell_type": "code",
   "execution_count": 1,
   "metadata": {},
   "outputs": [],
   "source": [
    "import pandas as pd\n",
    "import numpy as np\n",
    "from sklearn.model_selection import KFold\n",
    "from sklearn.metrics import mean_squared_error\n",
    "from catboost import CatBoostRegressor\n",
    "from feature_engine.outliers import Winsorizer"
   ]
  },
  {
   "cell_type": "code",
   "execution_count": 2,
   "metadata": {},
   "outputs": [],
   "source": [
    "train = pd.read_csv('Train.csv')\n",
    "test = pd.read_csv('Test.csv')\n",
    "sample = pd.read_csv('SampleSubmission.csv')"
   ]
  },
  {
   "cell_type": "code",
   "execution_count": 3,
   "metadata": {},
   "outputs": [],
   "source": [
    "df = pd.concat([train, test], axis=0)"
   ]
  },
  {
   "cell_type": "code",
   "execution_count": 4,
   "metadata": {},
   "outputs": [],
   "source": [
    "win0 = Winsorizer(capping_method='iqr', tail='right', fold=1.5, variables=['ghsl_water_surface', 'ghsl_built_1975_to_1990', 'ghsl_built_1990_to_2000', 'ghsl_built_2000_to_2014', 'ghsl_built_pre_1975', 'ghsl_pop_density', 'landcover_crops_fraction', 'landcover_urban_fraction', 'landcover_water_permanent_10km_fraction', 'landcover_water_seasonal_10km_fraction', 'nighttime_lights', 'dist_to_capital', 'dist_to_shoreline'])\n",
    "df= win0.fit_transform(df)"
   ]
  },
  {
   "cell_type": "code",
   "execution_count": 5,
   "metadata": {},
   "outputs": [],
   "source": [
    "win1 = Winsorizer(capping_method='iqr', tail='left', fold=1.5, variables=['ghsl_not_built_up'])\n",
    "df = win1.fit_transform(df)"
   ]
  },
  {
   "cell_type": "code",
   "execution_count": 6,
   "metadata": {},
   "outputs": [],
   "source": [
    "df['ghsl_earth_area'] = 1 - df.ghsl_water_surface"
   ]
  },
  {
   "cell_type": "code",
   "execution_count": 7,
   "metadata": {},
   "outputs": [],
   "source": [
    "df['built_on_land'] = df.ghsl_earth_area - (df.ghsl_built_1975_to_1990 + df.ghsl_built_1990_to_2000 + df.ghsl_built_2000_to_2014 + df.ghsl_built_pre_1975)"
   ]
  },
  {
   "cell_type": "code",
   "execution_count": 8,
   "metadata": {},
   "outputs": [],
   "source": [
    "df['id_by_country_cnt']= df.groupby('country')['ID'].transform('count')"
   ]
  },
  {
   "cell_type": "code",
   "execution_count": 9,
   "metadata": {},
   "outputs": [],
   "source": [
    "country_freq= df.country.value_counts(normalize=True).to_dict()\n",
    "df['country_freq']= df.country.map(country_freq)"
   ]
  },
  {
   "cell_type": "code",
   "execution_count": 10,
   "metadata": {},
   "outputs": [],
   "source": [
    "df['ghsl_water_surface_per_10km'] = df.ghsl_water_surface * 2\n",
    "df['water']= df.landcover_water_permanent_10km_fraction + df.landcover_water_seasonal_10km_fraction"
   ]
  },
  {
   "cell_type": "code",
   "execution_count": 11,
   "metadata": {},
   "outputs": [],
   "source": [
    "df['total_built_up']= df.ghsl_built_pre_1975 + df.ghsl_built_1975_to_1990 + df.ghsl_built_1990_to_2000 + df.ghsl_built_2000_to_2014"
   ]
  },
  {
   "cell_type": "code",
   "execution_count": 12,
   "metadata": {},
   "outputs": [],
   "source": [
    "df['land_dividation'] = df.landcover_crops_fraction + df.landcover_urban_fraction + df.landcover_water_permanent_10km_fraction + df.landcover_water_seasonal_10km_fraction"
   ]
  },
  {
   "cell_type": "code",
   "execution_count": 13,
   "metadata": {},
   "outputs": [],
   "source": [
    "df['Total_distance'] = df.dist_to_capital + df.dist_to_shoreline"
   ]
  },
  {
   "cell_type": "code",
   "execution_count": 14,
   "metadata": {},
   "outputs": [],
   "source": [
    "urban= pd.get_dummies(df.urban_or_rural, drop_first=True, prefix= 'urban_or_rural_')\n",
    "df = df.drop('urban_or_rural', axis= 1)\n",
    "df = pd.concat([df, urban], axis= 1)"
   ]
  },
  {
   "cell_type": "code",
   "execution_count": 15,
   "metadata": {},
   "outputs": [],
   "source": [
    "df['landcover_water_permanent_5km_fraction'] = df['landcover_water_permanent_10km_fraction']/2\n",
    "df['landcover_water_seasonal_5km_fraction'] = df['landcover_water_seasonal_10km_fraction']/2"
   ]
  },
  {
   "cell_type": "code",
   "execution_count": 16,
   "metadata": {},
   "outputs": [],
   "source": [
    "df['dist_to_capital_in_miles'] = df.dist_to_capital * 0.62137119\n",
    "df['dist_to_shoreline_in_miles'] = df.dist_to_shoreline * 0.62137119"
   ]
  },
  {
   "cell_type": "code",
   "execution_count": 17,
   "metadata": {},
   "outputs": [],
   "source": [
    "train = df[:21454]\n",
    "test = df[21454:]"
   ]
  },
  {
   "cell_type": "code",
   "execution_count": 18,
   "metadata": {},
   "outputs": [
    {
     "data": {
      "text/plain": [
       "['year',\n",
       " 'ghsl_water_surface',\n",
       " 'ghsl_built_pre_1975',\n",
       " 'ghsl_built_1975_to_1990',\n",
       " 'ghsl_built_1990_to_2000',\n",
       " 'ghsl_built_2000_to_2014',\n",
       " 'ghsl_not_built_up',\n",
       " 'ghsl_pop_density',\n",
       " 'landcover_crops_fraction',\n",
       " 'landcover_urban_fraction',\n",
       " 'landcover_water_permanent_10km_fraction',\n",
       " 'landcover_water_seasonal_10km_fraction',\n",
       " 'nighttime_lights',\n",
       " 'dist_to_capital',\n",
       " 'dist_to_shoreline',\n",
       " 'Target',\n",
       " 'ghsl_earth_area',\n",
       " 'built_on_land',\n",
       " 'id_by_country_cnt',\n",
       " 'country_freq',\n",
       " 'ghsl_water_surface_per_10km',\n",
       " 'water',\n",
       " 'total_built_up',\n",
       " 'land_dividation',\n",
       " 'Total_distance',\n",
       " 'urban_or_rural__U',\n",
       " 'landcover_water_permanent_5km_fraction',\n",
       " 'landcover_water_seasonal_5km_fraction',\n",
       " 'dist_to_capital_in_miles',\n",
       " 'dist_to_shoreline_in_miles']"
      ]
     },
     "execution_count": 18,
     "metadata": {},
     "output_type": "execute_result"
    }
   ],
   "source": [
    "[var for var in train.columns if train[var].dtypes != 'O']"
   ]
  },
  {
   "cell_type": "code",
   "execution_count": 19,
   "metadata": {},
   "outputs": [],
   "source": [
    "cont_cols = ['year',\n",
    " 'ghsl_water_surface',\n",
    " 'ghsl_built_pre_1975',\n",
    " 'ghsl_built_1975_to_1990',\n",
    " 'ghsl_built_1990_to_2000',\n",
    " 'ghsl_built_2000_to_2014',\n",
    " 'ghsl_not_built_up',\n",
    " 'ghsl_pop_density',\n",
    " 'landcover_crops_fraction',\n",
    " 'landcover_urban_fraction',\n",
    " 'landcover_water_permanent_10km_fraction',\n",
    " 'landcover_water_seasonal_10km_fraction',\n",
    " 'nighttime_lights',\n",
    " 'dist_to_capital',\n",
    " 'dist_to_shoreline',\n",
    " 'ghsl_earth_area',\n",
    " 'built_on_land',\n",
    " 'id_by_country_cnt',\n",
    " 'country_freq',\n",
    " 'ghsl_water_surface_per_10km',\n",
    " 'water',\n",
    " 'total_built_up',\n",
    " 'land_dividation',\n",
    " 'Total_distance',\n",
    " 'urban_or_rural__U',\n",
    " 'landcover_water_permanent_5km_fraction',\n",
    " 'landcover_water_seasonal_5km_fraction',\n",
    " 'dist_to_capital_in_miles',\n",
    " 'dist_to_shoreline_in_miles']"
   ]
  },
  {
   "cell_type": "code",
   "execution_count": 20,
   "metadata": {},
   "outputs": [],
   "source": [
    "X_train = train[cont_cols]\n",
    "y_train = train.Target\n",
    "X_test = test[cont_cols]"
   ]
  },
  {
   "cell_type": "code",
   "execution_count": null,
   "metadata": {},
   "outputs": [
    {
     "name": "stdout",
     "output_type": "stream",
     "text": [
      "=============== Fold No: 1 ===============\n",
      "Learning rate set to 0.052354\n",
      "0:\tlearn: 0.1878009\ttest: 0.1870534\tbest: 0.1870534 (0)\ttotal: 150ms\tremaining: 4m 59s\n",
      "500:\tlearn: 0.0794573\ttest: 0.0869724\tbest: 0.0869647 (499)\ttotal: 6.6s\tremaining: 19.8s\n",
      "1000:\tlearn: 0.0729981\ttest: 0.0855013\tbest: 0.0855013 (1000)\ttotal: 13.3s\tremaining: 13.3s\n",
      "1500:\tlearn: 0.0683178\ttest: 0.0849207\tbest: 0.0849177 (1480)\ttotal: 19.6s\tremaining: 6.51s\n",
      "Stopped by overfitting detector  (50 iterations wait)\n",
      "\n",
      "bestTest = 0.08488554826\n",
      "bestIteration = 1532\n",
      "\n",
      "Shrink model to first 1533 iterations.\n",
      "0.08488555739223161\n",
      "=============== Fold No: 2 ===============\n",
      "Learning rate set to 0.052354\n",
      "0:\tlearn: 0.1877660\ttest: 0.1866419\tbest: 0.1866419 (0)\ttotal: 19ms\tremaining: 37.9s\n",
      "500:\tlearn: 0.0792812\ttest: 0.0861641\tbest: 0.0861525 (498)\ttotal: 6.44s\tremaining: 19.3s\n",
      "1000:\tlearn: 0.0727999\ttest: 0.0853138\tbest: 0.0853138 (1000)\ttotal: 13s\tremaining: 12.9s\n",
      "Stopped by overfitting detector  (50 iterations wait)\n",
      "\n",
      "bestTest = 0.08527334835\n",
      "bestIteration = 1052\n",
      "\n",
      "Shrink model to first 1053 iterations.\n",
      "0.08527336018824927\n",
      "=============== Fold No: 3 ===============\n",
      "Learning rate set to 0.052354\n",
      "0:\tlearn: 0.1875495\ttest: 0.1886151\tbest: 0.1886151 (0)\ttotal: 11.3ms\tremaining: 22.6s\n",
      "500:\tlearn: 0.0794019\ttest: 0.0842247\tbest: 0.0842247 (500)\ttotal: 6.89s\tremaining: 20.6s\n",
      "1000:\tlearn: 0.0730261\ttest: 0.0833823\tbest: 0.0833656 (995)\ttotal: 14.1s\tremaining: 14.1s\n",
      "Stopped by overfitting detector  (50 iterations wait)\n",
      "\n",
      "bestTest = 0.08331335272\n",
      "bestIteration = 1101\n",
      "\n",
      "Shrink model to first 1102 iterations.\n",
      "0.08331334760560562\n",
      "=============== Fold No: 4 ===============\n",
      "Learning rate set to 0.052354\n",
      "0:\tlearn: 0.1877123\ttest: 0.1871333\tbest: 0.1871333 (0)\ttotal: 10.7ms\tremaining: 21.4s\n",
      "500:\tlearn: 0.0795266\ttest: 0.0844156\tbest: 0.0844156 (500)\ttotal: 5.77s\tremaining: 17.3s\n",
      "1000:\tlearn: 0.0730210\ttest: 0.0835056\tbest: 0.0835055 (997)\ttotal: 13s\tremaining: 12.9s\n",
      "Stopped by overfitting detector  (50 iterations wait)\n",
      "\n",
      "bestTest = 0.08347249772\n",
      "bestIteration = 1009\n",
      "\n",
      "Shrink model to first 1010 iterations.\n",
      "0.08347249648633652\n",
      "=============== Fold No: 5 ===============\n",
      "Learning rate set to 0.052355\n",
      "0:\tlearn: 0.1879867\ttest: 0.1846714\tbest: 0.1846714 (0)\ttotal: 15.8ms\tremaining: 31.6s\n",
      "500:\tlearn: 0.0795049\ttest: 0.0862804\tbest: 0.0862804 (500)\ttotal: 6.89s\tremaining: 20.6s\n",
      "1000:\tlearn: 0.0731154\ttest: 0.0852394\tbest: 0.0852190 (976)\ttotal: 13.6s\tremaining: 13.6s\n",
      "Stopped by overfitting detector  (50 iterations wait)\n",
      "\n",
      "bestTest = 0.08500016651\n",
      "bestIteration = 1203\n",
      "\n",
      "Shrink model to first 1204 iterations.\n",
      "0.0850001708901811\n",
      "=============== Fold No: 6 ===============\n",
      "Learning rate set to 0.052355\n",
      "0:\tlearn: 0.1874744\ttest: 0.1894503\tbest: 0.1894503 (0)\ttotal: 11.5ms\tremaining: 23s\n",
      "500:\tlearn: 0.0794920\ttest: 0.0855375\tbest: 0.0855375 (500)\ttotal: 9.57s\tremaining: 28.6s\n",
      "Stopped by overfitting detector  (50 iterations wait)\n",
      "\n",
      "bestTest = 0.08498318756\n",
      "bestIteration = 708\n",
      "\n",
      "Shrink model to first 709 iterations.\n",
      "0.0849831824139783\n",
      "=============== Fold No: 7 ===============\n",
      "Learning rate set to 0.052355\n",
      "0:\tlearn: 0.1873141\ttest: 0.1907341\tbest: 0.1907341 (0)\ttotal: 14ms\tremaining: 28s\n",
      "500:\tlearn: 0.0790413\ttest: 0.0900454\tbest: 0.0900454 (500)\ttotal: 6.12s\tremaining: 18.3s\n",
      "Stopped by overfitting detector  (50 iterations wait)\n",
      "\n",
      "bestTest = 0.08946024409\n",
      "bestIteration = 824\n",
      "\n",
      "Shrink model to first 825 iterations.\n",
      "0.08946024548148535\n",
      "=============== Fold No: 8 ===============\n",
      "Learning rate set to 0.052355\n",
      "0:\tlearn: 0.1876719\ttest: 0.1876697\tbest: 0.1876697 (0)\ttotal: 16.3ms\tremaining: 32.7s\n",
      "500:\tlearn: 0.0794259\ttest: 0.0860378\tbest: 0.0860373 (499)\ttotal: 5.33s\tremaining: 16s\n",
      "Stopped by overfitting detector  (50 iterations wait)\n",
      "\n",
      "bestTest = 0.08579210682\n",
      "bestIteration = 683\n",
      "\n",
      "Shrink model to first 684 iterations.\n",
      "0.0857921099757116\n",
      "=============== Fold No: 9 ===============\n",
      "Learning rate set to 0.052355\n",
      "0:\tlearn: 0.1877721\ttest: 0.1866131\tbest: 0.1866131 (0)\ttotal: 11ms\tremaining: 21.9s\n",
      "500:\tlearn: 0.0797265\ttest: 0.0831683\tbest: 0.0831683 (500)\ttotal: 7s\tremaining: 20.9s\n",
      "1000:\tlearn: 0.0732982\ttest: 0.0822549\tbest: 0.0822354 (963)\ttotal: 13.8s\tremaining: 13.8s\n",
      "Stopped by overfitting detector  (50 iterations wait)\n",
      "\n",
      "bestTest = 0.0821881404\n",
      "bestIteration = 1144\n",
      "\n",
      "Shrink model to first 1145 iterations.\n",
      "0.0821881308192359\n",
      "=============== Fold No: 10 ===============\n",
      "Learning rate set to 0.052355\n",
      "0:\tlearn: 0.1875888\ttest: 0.1881922\tbest: 0.1881922 (0)\ttotal: 10.7ms\tremaining: 21.4s\n",
      "500:\tlearn: 0.0792538\ttest: 0.0885997\tbest: 0.0885997 (500)\ttotal: 5.38s\tremaining: 16.1s\n"
     ]
    }
   ],
   "source": [
    "n_folds = 10\n",
    "subbed = []\n",
    "kf = KFold(n_splits=n_folds, shuffle=True, random_state=10)\n",
    "\n",
    "\n",
    "for fold, (train_idx, test_idx) in enumerate(kf.split(X_train, y_train)):\n",
    "    print('=============== Fold No:',fold+1,'===============')\n",
    "    X_tr, X_tst = X_train.iloc[train_idx], X_train.iloc[test_idx]\n",
    "    y_tr, y_tst = y_train.iloc[train_idx], y_train.iloc[test_idx]\n",
    "    \n",
    "    model = CatBoostRegressor(n_estimators=2000,eval_metric= 'RMSE', random_state=10)\n",
    "    model.fit(X_tr, y_tr,eval_set=[(X_tst, y_tst)], early_stopping_rounds=50, verbose=500)\n",
    "    print(mean_squared_error(y_tst, np.round(model.predict(X_tst), decimals=6), squared=False))\n",
    "    subbed.append(mean_squared_error(y_tst, model.predict(X_tst), squared=False))\n",
    "    pred = model.predict(X_test)\n",
    "print(np.mean(subbed))"
   ]
  },
  {
   "cell_type": "code",
   "execution_count": null,
   "metadata": {},
   "outputs": [],
   "source": [
    "predict= np.round(pred, decimals=6)"
   ]
  },
  {
   "cell_type": "code",
   "execution_count": null,
   "metadata": {},
   "outputs": [],
   "source": [
    "sub = pd.DataFrame()\n",
    "sub['ID'] = test['ID']\n",
    "sub['Target'] = predict\n",
    "sub.to_csv('cat_output.csv', index= False)"
   ]
  }
 ],
 "metadata": {
  "kernelspec": {
   "display_name": "Python 3",
   "language": "python",
   "name": "python3"
  },
  "language_info": {
   "codemirror_mode": {
    "name": "ipython",
    "version": 3
   },
   "file_extension": ".py",
   "mimetype": "text/x-python",
   "name": "python",
   "nbconvert_exporter": "python",
   "pygments_lexer": "ipython3",
   "version": "3.8.5"
  }
 },
 "nbformat": 4,
 "nbformat_minor": 4
}
